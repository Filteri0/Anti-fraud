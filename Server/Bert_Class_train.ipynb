{
 "cells": [
  {
   "cell_type": "code",
   "execution_count": 1,
   "metadata": {
    "id": "UyiNa76npL62"
   },
   "outputs": [
    {
     "name": "stderr",
     "output_type": "stream",
     "text": [
      "d:\\Venv\\Pytorch_venv\\lib\\site-packages\\tqdm\\auto.py:21: TqdmWarning: IProgress not found. Please update jupyter and ipywidgets. See https://ipywidgets.readthedocs.io/en/stable/user_install.html\n",
      "  from .autonotebook import tqdm as notebook_tqdm\n"
     ]
    }
   ],
   "source": [
    "import torch #pytorch\n",
    "from torch.utils.data import Dataset #通常用於自定義數據加載與預處理\n",
    "from torch.utils.data import DataLoader #批次傳送\n",
    "from transformers import BertTokenizer #BERT分詞器\n",
    "from transformers import BertForSequenceClassification #分類任務\n",
    "from IPython.display import clear_output #用於清除輸出\n",
    "from tqdm import tqdm #進度條\n",
    "import pandas as pd #資料處理\n",
    "from sklearn.model_selection import train_test_split #分割資料集\n",
    "import time "
   ]
  },
  {
   "cell_type": "code",
   "execution_count": 2,
   "metadata": {},
   "outputs": [
    {
     "name": "stdout",
     "output_type": "stream",
     "text": [
      "字典大小： 21128\n"
     ]
    }
   ],
   "source": [
    "PRETRAINED_MODEL_NAME = \"bert-base-chinese\"  # 指定繁簡中文 BERT-BASE 預訓練模型\n",
    "\n",
    "# 取得bert-base-chinese預訓練模型所使用的 tokenizer\n",
    "tokenizer = BertTokenizer.from_pretrained(PRETRAINED_MODEL_NAME)\n",
    "clear_output()\n",
    "\n",
    "#查看該預訓練模型字典\n",
    "vocab = tokenizer.vocab\n",
    "print(f\"字典大小： {len(vocab)}\")"
   ]
  },
  {
   "cell_type": "code",
   "execution_count": 3,
   "metadata": {},
   "outputs": [
    {
     "name": "stdout",
     "output_type": "stream",
     "text": [
      "df  數量: 3348\n",
      "df0 數量: 1534\n",
      "df1 數量: 1814\n"
     ]
    }
   ],
   "source": [
    "df0 = pd.read_csv(\"./train_data/data_0.csv\")\n",
    "df1 = pd.read_csv(\"./train_data/data_1.csv\")\n",
    "df = pd.concat([df0, df1])\n",
    "\n",
    "print(f\"df  數量: {len(df)}\")\n",
    "print(f\"df0 數量: {len(df0)}\")\n",
    "print(f\"df1 數量: {len(df1)}\")"
   ]
  },
  {
   "cell_type": "code",
   "execution_count": 4,
   "metadata": {},
   "outputs": [],
   "source": [
    "# 劃分數據集為訓練集、驗證集和測試集\n",
    "train_df, temp_df = train_test_split(df, test_size=0.3, random_state=42)  # 70% 訓練，30% 其他\n",
    "val_df, test_df = train_test_split(temp_df, test_size=0.5, random_state=42)  # 15% 驗證，15% 測試\n",
    "\n",
    "# 保存劃分後的數據集為新的 CSV 文件\n",
    "train_df.to_csv(\"./train_data/train.csv\", index=False, encoding='utf-8-sig')\n",
    "val_df.to_csv(\"./train_data/val.csv\", index=False, encoding='utf-8-sig')\n",
    "test_df.to_csv(\"./train_data/test.csv\", index=False, encoding='utf-8-sig')"
   ]
  },
  {
   "cell_type": "code",
   "execution_count": 5,
   "metadata": {},
   "outputs": [],
   "source": [
    "class NewsSentimentDataset(Dataset):\n",
    "    # 讀取前處理後的 csv 檔並初始化一些參數\n",
    "    def __init__(self, mode, tokenizer, file_path):\n",
    "        assert mode in [\"train\", \"val\", \"test\"]\n",
    "        self.mode = mode\n",
    "        self.df = pd.read_csv(file_path).fillna(\"\")\n",
    "        self.len = len(self.df)\n",
    "        self.tokenizer = tokenizer  # 使用 BERT tokenizer\n",
    "        self.label_map = {0: 0, 1: 1}\n",
    "\n",
    "    # 定義回傳\"一筆\"訓練 / 測試數據的函式\n",
    "    def __getitem__(self, idx):\n",
    "        content = self.df.iloc[idx]['內文_斷詞後']\n",
    "        if self.mode == \"test\":\n",
    "            label_tensor = None\n",
    "        else:\n",
    "            label = self.df.iloc[idx]['手動標註']\n",
    "            # 將 label 文字也轉換成索引方便轉換成 tensor\n",
    "            label_id = self.label_map[label]\n",
    "            label_tensor = torch.tensor(label_id)\n",
    "\n",
    "        tokens_tensor = self.tokenizer.encode(content,\n",
    "                          add_special_tokens=True,  # like [CLS]\n",
    "                          max_length=128,\n",
    "                          truncation=True,\n",
    "                          padding='max_length',\n",
    "                          return_tensors='pt'\n",
    "                          ).squeeze()  # 移除多餘的維度\n",
    "\n",
    "        return tokens_tensor, label_tensor\n",
    "\n",
    "    def __len__(self):\n",
    "        return self.len"
   ]
  },
  {
   "cell_type": "code",
   "execution_count": 6,
   "metadata": {},
   "outputs": [
    {
     "name": "stderr",
     "output_type": "stream",
     "text": [
      "Some weights of BertForSequenceClassification were not initialized from the model checkpoint at bert-base-chinese and are newly initialized: ['classifier.bias', 'classifier.weight']\n",
      "You should probably TRAIN this model on a down-stream task to be able to use it for predictions and inference.\n"
     ]
    },
    {
     "name": "stdout",
     "output_type": "stream",
     "text": [
      "投資生存法則，就是要謹記四點（1）不買暴漲暴跌的股票（2）買龍頭股和股王（3）不買魚頭和魚尾，只買魚身（4）除息前一兩個禮拜買，除息前一天賣掉不買也可以用來參考！學無止境！不收任何費用，不合作，不下軟體次機會一定要抓住！祝願在股市中一路長紅\n",
      "(tensor([ 101, 2832, 6536, 4495, 2100, 3791, 1179, 8024, 2218, 3221, 6206, 6346,\n",
      "        6250, 1724, 7953, 8020,  122, 8021,  679, 6525, 3274, 4039, 3274, 6649,\n",
      "        4638, 5500, 4873, 8020,  123, 8021, 6525, 7983, 7531, 5500, 1469, 5500,\n",
      "        4374, 8020,  124, 8021,  679, 6525, 7797, 7531, 1469, 7797, 2227, 8024,\n",
      "        1372, 6525, 7797, 6716, 8020,  125, 8021, 7370, 2622, 1184,  671, 1060,\n",
      "         943, 4891, 2876, 6525, 8024, 7370, 2622, 1184,  671, 1921, 6546, 2957,\n",
      "         679, 6525,  738, 1377,  809, 4500,  889, 1347, 5440, 8013, 2119, 4192,\n",
      "        3632, 1862, 8013,  679, 3119,  818,  862, 6527, 4500, 8024,  679, 1394,\n",
      "         868, 8024,  679,  678, 6727, 7768, 3613, 3582, 3298,  671, 2137, 6206,\n",
      "        2831,  857, 8013, 4867, 7544, 1762, 5500, 2356,  704,  671, 6662, 7269,\n",
      "        5148,  102,    0,    0,    0,    0,    0,    0]), tensor(1))\n"
     ]
    }
   ],
   "source": [
    "PRETRAINED_MODEL_NAME = \"bert-base-chinese\"\n",
    "train_file_path = \"./train_data/train.csv\"\n",
    "\n",
    "model = BertForSequenceClassification.from_pretrained(PRETRAINED_MODEL_NAME, num_labels=2)\n",
    "tokenizer = BertTokenizer.from_pretrained(PRETRAINED_MODEL_NAME)\n",
    "train_set = NewsSentimentDataset(\"train\", tokenizer, train_file_path)\n",
    "print(train_set.df.iloc[0]['內文_斷詞後'])\n",
    "print(train_set[0])"
   ]
  },
  {
   "cell_type": "code",
   "execution_count": 7,
   "metadata": {},
   "outputs": [],
   "source": [
    "def create_mini_batch(samples):\n",
    "    tokens_tensors = [s[0] for s in samples] # 內文token_tensor\n",
    "    tokens_tensors = torch.stack(tokens_tensors) # 堆疊成二維形狀(len of list,max_length)\n",
    "    # 若有標籤回傳label tensor\n",
    "    if samples[0][1] is not None:\n",
    "        label_ids = torch.stack([s[1] for s in samples])\n",
    "    else:\n",
    "        label_ids = None\n",
    "\n",
    "    # attention masks，將 tokens_tensors 裡頭不為 zero padding\n",
    "    # 的位置設為 1 讓 BERT 只關注這些位置的 tokens\n",
    "    masks_tensors = torch.zeros(tokens_tensors.shape, dtype=torch.long) #dtype=int64\n",
    "    masks_tensors = masks_tensors.masked_fill(tokens_tensors != 0, 1)\n",
    "\n",
    "    return tokens_tensors, masks_tensors, label_ids\n"
   ]
  },
  {
   "cell_type": "code",
   "execution_count": 8,
   "metadata": {},
   "outputs": [
    {
     "name": "stdout",
     "output_type": "stream",
     "text": [
      " token:torch.Size([32, 128]),\n",
      " mask:torch.Size([32, 128]),\n",
      " label:torch.Size([32])\n",
      " = = = = = = = = = = = = = = = = = = = =\n",
      " token:tensor([[ 101, 2832, 6536,  ...,    0,    0,    0],\n",
      "        [ 101, 3418, 3315,  ...,    0,    0,    0],\n",
      "        [ 101, 2802, 5050,  ...,    0,    0,    0],\n",
      "        ...,\n",
      "        [ 101, 4638, 2797,  ...,    0,    0,    0],\n",
      "        [ 101, 6313, 4989,  ...,  671, 5143,  102],\n",
      "        [ 101, 6313, 4989,  ...,  671, 5143,  102]]),\n",
      " mask:tensor([[1, 1, 1,  ..., 0, 0, 0],\n",
      "        [1, 1, 1,  ..., 0, 0, 0],\n",
      "        [1, 1, 1,  ..., 0, 0, 0],\n",
      "        ...,\n",
      "        [1, 1, 1,  ..., 0, 0, 0],\n",
      "        [1, 1, 1,  ..., 1, 1, 1],\n",
      "        [1, 1, 1,  ..., 1, 1, 1]]),\n",
      " label:tensor([1, 0, 0, 1, 0, 0, 1, 0, 0, 1, 0, 0, 1, 0, 1, 1, 0, 1, 1, 1, 0, 1, 1, 0,\n",
      "        1, 1, 0, 1, 0, 1, 1, 1])\n"
     ]
    }
   ],
   "source": [
    "BATCH_SIZE=32\n",
    "trainloader=DataLoader(train_set, batch_size=BATCH_SIZE, collate_fn=create_mini_batch) #collate_fn接收單個數據樣本，並組成多樣本的批次\n",
    "data = next(iter(trainloader))\n",
    "print(f\" token:{data[0].shape},\\n mask:{data[1].shape},\\n label:{data[2].shape}\")\n",
    "print(\" =\"*20)\n",
    "print(f\" token:{data[0]},\\n mask:{data[1]},\\n label:{data[2]}\")"
   ]
  },
  {
   "cell_type": "code",
   "execution_count": 9,
   "metadata": {},
   "outputs": [],
   "source": [
    "device = torch.device(\"cuda:0\" if torch.cuda.is_available() else \"cpu\")\n",
    "\n",
    "# 定義訓練函數\n",
    "def train_model(trainloader, epochs, lr, batch_size, model):\n",
    "    model.to(device)  # 將模型移動到 GPU 或 CPU\n",
    "    model.train()  # 訓練模式\n",
    "    optimizer = torch.optim.Adam(model.parameters(), lr=lr)  # 設定優化器\n",
    "\n",
    "    # 計時開始\n",
    "    start_time = time.time()\n",
    "\n",
    "    # 迭代訓練\n",
    "    for epoch in range(epochs):\n",
    "        running_loss = 0.0\n",
    "        for data in trainloader:\n",
    "            tokens_tensors, masks_tensors, labels = [t.to(device) for t in data]\n",
    "\n",
    "            # 將參數梯度歸零\n",
    "            optimizer.zero_grad()\n",
    "\n",
    "            # forward pass\n",
    "            outputs = model(input_ids=tokens_tensors, attention_mask=masks_tensors, labels=labels)\n",
    "\n",
    "            loss = outputs[0]  # output 回傳 loss 與類別機率 (提取出來的是張量，取得其中元素使用 item())\n",
    "\n",
    "            # backward\n",
    "            loss.backward()\n",
    "            optimizer.step()  # 更新參數\n",
    "\n",
    "            running_loss += loss.item()\n",
    "\n",
    "        print(f\"Epoch {epoch+1}/{epochs}, Loss: {running_loss/len(trainloader)}\")\n",
    "\n",
    "    # 計時結束\n",
    "    end_time = time.time()\n",
    "    elapsed_time = end_time - start_time\n",
    "    print(f\"Training time: {elapsed_time:.2f} seconds\")\n",
    "\n",
    "    return model"
   ]
  },
  {
   "cell_type": "code",
   "execution_count": 10,
   "metadata": {},
   "outputs": [],
   "source": [
    "# 載入一個可以做中文多分類任務的模型，n_class = 2\n",
    "PRETRAINED_MODEL_NAME = \"bert-base-chinese\"\n",
    "tokenizer = BertTokenizer.from_pretrained(PRETRAINED_MODEL_NAME)\n",
    "NUM_LABELS = 2\n",
    "\n",
    "batch_size = 32\n",
    "epochs = 3\n",
    "lr = 2e-5\n",
    "\n",
    "def load_model():\n",
    "  #下游任務：分類任務\n",
    "  model = BertForSequenceClassification.from_pretrained(PRETRAINED_MODEL_NAME, num_labels=NUM_LABELS)\n",
    "  clear_output()\n",
    "  #將模型操作移轉到gpu上進行\n",
    "  device = torch.device(\"cuda:0\" if torch.cuda.is_available() else \"cpu\")\n",
    "  model = model.to(device)\n",
    "\n",
    "  return model\n",
    "\n"
   ]
  },
  {
   "cell_type": "code",
   "execution_count": 11,
   "metadata": {},
   "outputs": [],
   "source": [
    "def pre_process(df, mode):\n",
    "    file_path = f\"{mode}.csv\"\n",
    "    df.to_csv(file_path, index=False)\n",
    "    df_Dataset = NewsSentimentDataset(mode, tokenizer=tokenizer, file_path=file_path)\n",
    "    df_DataLoader = DataLoader(df_Dataset, batch_size=batch_size, collate_fn=create_mini_batch)\n",
    "    return df_Dataset, df_DataLoader\n",
    "\n",
    "def get_predictions(model, dataloader, compute_acc=False):\n",
    "    predictions = None\n",
    "    correct = 0\n",
    "    total = 0\n",
    "\n",
    "    with torch.no_grad():\n",
    "        for data in dataloader:\n",
    "            if next(model.parameters()).is_cuda:\n",
    "                data = [t.to(\"cuda:0\") for t in data if t is not None]\n",
    "\n",
    "            tokens_tensors, masks_tensors = data[:2]\n",
    "            outputs = model(input_ids=tokens_tensors, attention_mask=masks_tensors)\n",
    "            logits = outputs[0]\n",
    "\n",
    "            _, pred = torch.max(logits, 1)\n",
    "\n",
    "            if compute_acc:\n",
    "                labels = data[-1]\n",
    "                total += labels.size(0)\n",
    "                correct += (pred == labels).sum().item()\n",
    "\n",
    "            if predictions is None:\n",
    "                predictions = pred\n",
    "            else:\n",
    "                predictions = torch.cat((predictions, pred))\n",
    "\n",
    "    if compute_acc:\n",
    "        acc = correct / total\n",
    "        return predictions, acc\n",
    "\n",
    "    return predictions"
   ]
  },
  {
   "cell_type": "code",
   "execution_count": 12,
   "metadata": {},
   "outputs": [
    {
     "name": "stdout",
     "output_type": "stream",
     "text": [
      "Epoch 1/3, Loss: 0.1772241817698592\n",
      "Epoch 2/3, Loss: 0.04503448631814016\n",
      "Epoch 3/3, Loss: 0.020124710300089128\n",
      "Training time: 268.65 seconds\n"
     ]
    },
    {
     "name": "stderr",
     "output_type": "stream",
     "text": [
      "100%|██████████| 10/10 [44:47<00:00, 268.72s/it]"
     ]
    },
    {
     "name": "stdout",
     "output_type": "stream",
     "text": [
      "0.9841269841269841\n",
      "  train_period val_period       acc\n",
      "0      第 1 次訓練    第 1 次驗證  0.994413\n",
      "1      第 2 次訓練    第 2 次驗證  0.988095\n",
      "2      第 3 次訓練    第 3 次驗證  0.980296\n",
      "3      第 4 次訓練    第 4 次驗證  0.977778\n",
      "4      第 5 次訓練    第 5 次驗證  0.981013\n",
      "5      第 6 次訓練    第 6 次驗證  0.988439\n",
      "6      第 7 次訓練    第 7 次驗證  0.980000\n",
      "7      第 8 次訓練    第 8 次驗證  0.982036\n",
      "8      第 9 次訓練    第 9 次驗證  0.976471\n",
      "9     第 10 次訓練   第 10 次驗證  0.984127\n",
      "平均準確度 0.9832667455288929\n"
     ]
    },
    {
     "name": "stderr",
     "output_type": "stream",
     "text": [
      "\n"
     ]
    }
   ],
   "source": [
    "acc_list = []\n",
    "train_list = []\n",
    "val_list = []\n",
    "\n",
    "# 迴圈每次新增 train_df\n",
    "for i in tqdm(range(10)):\n",
    "    train_df = df.sample(frac=0.8, random_state=i)\n",
    "    val_df = df.drop(train_df.index)\n",
    "\n",
    "    train_df = train_df[['內文_斷詞後', '手動標註']]\n",
    "    val_df = val_df[['內文_斷詞後', '手動標註']]\n",
    "\n",
    "    train_list.append(f\"第 {i+1} 次訓練\")\n",
    "    val_list.append(f\"第 {i+1} 次驗證\")\n",
    "\n",
    "    trainset, trainloader = pre_process(train_df, mode='train')\n",
    "    valset, valloader = pre_process(val_df, mode='val')\n",
    "\n",
    "    model = load_model()\n",
    "\n",
    "    fitted_model = train_model(trainloader, epochs, lr, batch_size, model)\n",
    "    predictions, acc = get_predictions(fitted_model, valloader, compute_acc=True)\n",
    "    print(acc)\n",
    "    acc_list.append(acc)\n",
    "\n",
    "result_df = pd.DataFrame({\n",
    "    \"train_period\": train_list,\n",
    "    \"val_period\": val_list,\n",
    "    \"acc\": acc_list\n",
    "})\n",
    "\n",
    "avg_acc = sum(acc_list) / len(acc_list)\n",
    "print(result_df)\n",
    "print(\"平均準確度\", avg_acc)"
   ]
  },
  {
   "cell_type": "code",
   "execution_count": 13,
   "metadata": {},
   "outputs": [
    {
     "data": {
      "text/plain": [
       "<sklearn.metrics._plot.confusion_matrix.ConfusionMatrixDisplay at 0x2644d6c8f70>"
      ]
     },
     "execution_count": 13,
     "metadata": {},
     "output_type": "execute_result"
    },
    {
     "data": {
      "image/png": "[encoded data removed]",
      "text/plain": [
       "<Figure size 640x480 with 2 Axes>"
      ]
     },
     "metadata": {},
     "output_type": "display_data"
    }
   ],
   "source": [
    "from sklearn.metrics import confusion_matrix, ConfusionMatrixDisplay\n",
    "import matplotlib.pyplot as plt\n",
    "\n",
    "\n",
    "predictions, labels = [], []\n",
    "model.eval() # 模型評估模式\n",
    "\n",
    "# 使用驗證集進行預測\n",
    "with torch.no_grad():\n",
    "    for data in valloader:\n",
    "        tokens_tensors, masks_tensors, label_ids = [t.to(device) for t in data]\n",
    "        \n",
    "        # forward pass\n",
    "        outputs = model(input_ids=tokens_tensors,\n",
    "                        attention_mask=masks_tensors)\n",
    "        \n",
    "        logits = outputs.logits\n",
    "        _, preds = torch.max(logits, 1)\n",
    "        \n",
    "        predictions.extend(preds.cpu().numpy())\n",
    "        labels.extend(label_ids.cpu().numpy())\n",
    "\n",
    "cm = confusion_matrix(labels, predictions, labels=[0, 1])\n",
    "disp = ConfusionMatrixDisplay(confusion_matrix=cm, display_labels=['0', '1'])\n",
    "disp.plot(cmap=plt.cm.Blues)\n"
   ]
  },
  {
   "cell_type": "code",
   "execution_count": 14,
   "metadata": {},
   "outputs": [
    {
     "name": "stdout",
     "output_type": "stream",
     "text": [
      "模型已儲存到 ./Model_Save/bert_classification_model.bin\n",
      "Tokenizer 已儲存到 ./Model_Save/bert_tokenizer/\n"
     ]
    }
   ],
   "source": [
    "import os\n",
    "\n",
    "output_dir = './Model_Save/'\n",
    "\n",
    "if not os.path.exists(output_dir): # 如果目錄不存在，則建立該目錄\n",
    "    os.makedirs(output_dir)\n",
    "\n",
    "# 儲存模型\n",
    "model_save_path = os.path.join(output_dir, 'bert_classification_model.bin')\n",
    "torch.save(model.state_dict(), model_save_path)\n",
    "\n",
    "# 儲存 tokenizer\n",
    "tokenizer_save_path = os.path.join(output_dir, 'bert_tokenizer/')\n",
    "tokenizer.save_pretrained(tokenizer_save_path)\n",
    "\n",
    "print(f\"模型已儲存到 {model_save_path}\")\n",
    "print(f\"Tokenizer 已儲存到 {tokenizer_save_path}\")"
   ]
  }
 ],
 "metadata": {
  "colab": {
   "provenance": []
  },
  "kernelspec": {
   "display_name": "Pytorch_venv",
   "language": "python",
   "name": "python3"
  },
  "language_info": {
   "codemirror_mode": {
    "name": "ipython",
    "version": 3
   },
   "file_extension": ".py",
   "mimetype": "text/x-python",
   "name": "python",
   "nbconvert_exporter": "python",
   "pygments_lexer": "ipython3",
   "version": "3.8.10"
  }
 },
 "nbformat": 4,
 "nbformat_minor": 0
}
